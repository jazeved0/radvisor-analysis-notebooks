{
 "cells": [
  {
   "cell_type": "markdown",
   "source": [
    "# rAdvisor graphs"
   ],
   "metadata": {}
  },
  {
   "cell_type": "markdown",
   "source": [
    "## Notebook inputs"
   ],
   "metadata": {}
  },
  {
   "cell_type": "code",
   "execution_count": null,
   "source": [
    "# Path to a rAdvisor log file containing CPU, memory,\n",
    "# and disk utilization statistics, all for a single container\n",
    "LOG_FILE_PATH = \"./samples/50e48c6dc179fd6e1f5ef60ce0bc9244632caa3bf4187d0b893e5ecae6d491c6_1616525638.log\"\n",
    "\n",
    "# This should be one of:\n",
    "# - \"blkio.service.bytes\"\n",
    "# - \"blkio.throttle.service.bytes\"\n",
    "# - \"blkio.bfq.service.bytes\"\n",
    "# Which key has actual data depends on the configuration of the system.\n",
    "# More info:\n",
    "# https://github.com/elba-docker/radvisor/blob/develop/docs/collecting.md#additional-blkio-entries\n",
    "# https://www.kernel.org/doc/html/latest/admin-guide/cgroup-v1/blkio-controller.html\n",
    "# https://access.redhat.com/documentation/en-us/red_hat_enterprise_linux/6/html/resource_management_guide/ch-subsystems_and_tunable_parameters#sec-blkio\n",
    "IO_SERIES_KEY = \"blkio.throttle.service.bytes\"\n",
    "\n",
    "# Collection interval, displayed on graphs\n",
    "INTERVAL = \"50ms\""
   ],
   "outputs": [],
   "metadata": {}
  },
  {
   "cell_type": "markdown",
   "source": [
    "## Setup"
   ],
   "metadata": {}
  },
  {
   "cell_type": "code",
   "execution_count": null,
   "source": [
    "# Import libraries\n",
    "%matplotlib inline\n",
    "import matplotlib.pyplot as plt\n",
    "import pandas as pd\n",
    "import numpy as np\n",
    "import radvisor\n",
    "import math\n",
    "from typing import List, Iterable, Tuple, Dict, Any, Literal"
   ],
   "outputs": [],
   "metadata": {}
  },
  {
   "cell_type": "code",
   "execution_count": null,
   "source": [
    "def diff_percpu_value(a: List[int], b: List[int]) -> List[int]:\n",
    "    return [a - b for (a, b) in zip(a, b)]\n",
    "\n",
    "def diff_percpu(r):\n",
    "    \"\"\"Adapted from https://stackoverflow.com/questions/53808042/pandas-diff-but-user-defined-function\"\"\"\n",
    "    return [np.NaN] + [diff_percpu_value(r[n + 1], r[n]) for n in range(r.shape[0] - 1)]\n",
    "\n",
    "def construct_dataframe(log_file: Iterable[str]) -> Tuple[pd.DataFrame, Dict[str, Any]]:\n",
    "    \"\"\"\n",
    "    Constructs a dataframe containing all of the parsed rAdvisor log data,\n",
    "    including a couple of additional columns with derived data that are used for analysis.\n",
    "    Additionally, returns the YAML metadata included at the top of the log file.\n",
    "    \"\"\"\n",
    "\n",
    "    log_iter, metadata = radvisor.parse_target_log(log_file)\n",
    "    dataframe = pd.DataFrame(log_iter)\n",
    "\n",
    "    # Construct other series as needed for analysis\n",
    "    min_timestamp = dataframe[\"read\"].min()\n",
    "    dataframe[\"time\"] = dataframe.apply(lambda r: (r[\"read\"] - min_timestamp), axis=1)\n",
    "    dataframe[\"time_diff\"] = dataframe[\"time\"].diff()\n",
    "    dataframe[\"percpu_diff\"] = diff_percpu(dataframe[\"cpu_usage_percpu\"])\n",
    "    # All log entry keys have their \".\"'s converted to \"_\";'s when imported\n",
    "    io_series_key_corrected = IO_SERIES_KEY.replace('.', '_')\n",
    "    dataframe[\"read\"] = dataframe[io_series_key_corrected].apply(lambda i: i['read'])\n",
    "    dataframe[\"write\"] = dataframe[io_series_key_corrected].apply(lambda i: i['write'])\n",
    "    dataframe[\"read_diff\"] = dataframe[\"read\"].diff()\n",
    "    dataframe[\"write_diff\"] = dataframe[\"write\"].diff()\n",
    "\n",
    "    return (dataframe, metadata)"
   ],
   "outputs": [],
   "metadata": {}
  },
  {
   "cell_type": "code",
   "execution_count": null,
   "source": [
    "# Parse the file into a dataframe\n",
    "with open(LOG_FILE_PATH, 'r') as log_file:\n",
    "    dataframe, metadata = construct_dataframe(log_file)\n",
    "    print(f\"Generated dataframe for '{metadata['Metadata']['Names'][0]}' ({metadata['Metadata']['Id']})\")"
   ],
   "outputs": [],
   "metadata": {}
  },
  {
   "cell_type": "markdown",
   "source": [
    "## Point-in-time / line graphs\n",
    "\n",
    "- CPU (per-cpu rolled up into single time-series) - `cpu.usage.percpu`\n",
    "- Memory - `memory.usage.current`\n",
    "- I/O (read, write) - `blkio.service.bytes.read`, `blkio.service.bytes.write`"
   ],
   "metadata": {}
  },
  {
   "cell_type": "markdown",
   "source": [
    "### CPU Point-in-time / line graph"
   ],
   "metadata": {}
  },
  {
   "cell_type": "code",
   "execution_count": null,
   "source": [
    "# Graph inputs\n",
    "\n",
    "# Size of the window to aggregate collection samples in.\n",
    "WINDOW_SIZE_MS = 1_000\n",
    "\n",
    "# Aggregation function used for windows.\n",
    "WINDOW_AGGREGATION_FUNCTION = max\n",
    "\n",
    "# The aggregation function used to aggregate\n",
    "# each \"CPU time consumed per-core\" time-series for a single collection sample\n",
    "# into a single \"CPU time consumed\" time-series.\n",
    "# If using average, make sure to filter unused CPU cores;\n",
    "# otherwise the average might be artificially depressed\n",
    "# by a handful of permenant zeroes\n",
    "PER_CPU_AGGREGATION_FUNCTION = max"
   ],
   "outputs": [],
   "metadata": {}
  },
  {
   "cell_type": "code",
   "execution_count": null,
   "source": [
    "def generate_cpu_series(dataframe: pd.DataFrame) -> pd.Series:\n",
    "    \"\"\"\n",
    "    Generates the CPU time-series by aggregating the data.\n",
    "    This mutates the dataframe by adding additional columns.\n",
    "    \"\"\"\n",
    "    window_size_ns = int(WINDOW_SIZE_MS * 1e6)\n",
    "    dataframe[\"cpu_diff\"] = dataframe[\"percpu_diff\"].apply(\n",
    "        lambda d: PER_CPU_AGGREGATION_FUNCTION(d) if type(d) is list else 0)\n",
    "    dataframe[\"cpu\"] = dataframe.apply(\n",
    "        lambda r: (r[\"cpu_diff\"] / r[\"time_diff\"] if r[\"time_diff\"] != 0 else 0), axis=1)\n",
    "    dataframe[\"cpu_window\"] = dataframe.apply(lambda r: r[\"time\"] // window_size_ns, axis=1)\n",
    "    cpu_series = dataframe.groupby([\"cpu_window\"])[\"cpu\"].agg(WINDOW_AGGREGATION_FUNCTION)\n",
    "    cpu_series = cpu_series.reindex(range(0, cpu_series.index.max() + 1))\n",
    "    # Convert to core-percentage\n",
    "    cpu_series = cpu_series.apply(lambda v: v * 100)\n",
    "\n",
    "    return cpu_series"
   ],
   "outputs": [],
   "metadata": {}
  },
  {
   "cell_type": "code",
   "execution_count": null,
   "source": [
    "cpu_series = generate_cpu_series(dataframe)\n",
    "\n",
    "fig, ax = plt.subplots()\n",
    "fig.set_size_inches(10, 5)\n",
    "max_time = cpu_series.index.max()\n",
    "cpu_series.plot(ax=ax, kind=\"line\", grid=True)\n",
    "ax.set_xlim((0, max_time))\n",
    "ax.set_ylim((0, 100))\n",
    "ax.grid(b=True, alpha=0.75)\n",
    "ax.set_title(f\"CPU Utilization ({WINDOW_SIZE_MS / 1e3:.1f}s window)\")\n",
    "ax.set_xlabel(\"Time (seconds)\")\n",
    "ax.set_ylabel(f\"Aggregated CPU per window (%)\")\n",
    "ax.set_xticks(range(0, int(max_time) + 1, 60))\n",
    "ax.set_yticks(range(0, 101, 10))\n",
    "\n",
    "None"
   ],
   "outputs": [],
   "metadata": {}
  },
  {
   "cell_type": "markdown",
   "source": [
    "### Memory Point-in-time / line graph"
   ],
   "metadata": {}
  },
  {
   "cell_type": "code",
   "execution_count": null,
   "source": [
    "# Graph inputs\n",
    "\n",
    "# Size of the window to aggregate collection samples in.\n",
    "WINDOW_SIZE_MS = 1_000\n",
    "\n",
    "# Aggregation function used for windows.\n",
    "WINDOW_AGGREGATION_FUNCTION = np.mean"
   ],
   "outputs": [],
   "metadata": {}
  },
  {
   "cell_type": "code",
   "execution_count": null,
   "source": [
    "def generate_memory_series(dataframe: pd.DataFrame) -> pd.Series:\n",
    "    \"\"\"\n",
    "    Generates the Memory time-series by aggregating the data.\n",
    "    This mutates the dataframe by adding additional columns.\n",
    "    \"\"\"\n",
    "    window_size_ns = int(WINDOW_SIZE_MS * 1e6)\n",
    "    dataframe[\"memory_window\"] = dataframe.apply(lambda r: r[\"time\"] // window_size_ns, axis=1)\n",
    "    memory_series = dataframe.groupby([\"memory_window\"])[\"memory_usage_current\"].agg(WINDOW_AGGREGATION_FUNCTION)\n",
    "    memory_series = memory_series.reindex(range(0, memory_series.index.max() + 1))\n",
    "    # Convert to MiB\n",
    "    memory_series = memory_series.apply(lambda v: v / (1024 * 1024))\n",
    "\n",
    "    return memory_series"
   ],
   "outputs": [],
   "metadata": {}
  },
  {
   "cell_type": "code",
   "execution_count": null,
   "source": [
    "memory_series = generate_memory_series(dataframe)\n",
    "\n",
    "fig, ax = plt.subplots()\n",
    "fig.set_size_inches(10, 5)\n",
    "max_time = memory_series.index.max()\n",
    "max_memory = memory_series.max()\n",
    "memory_series.plot(ax=ax, kind=\"line\", grid=True)\n",
    "ax.set_xlim((0, max_time))\n",
    "ax.set_ylim((0, max_memory))\n",
    "ax.grid(b=True, alpha=0.75)\n",
    "ax.set_title(f\"Memory usage ({WINDOW_SIZE_MS / 1e3:.1f}s window)\")\n",
    "ax.set_xlabel(\"Time (seconds)\")\n",
    "ax.set_ylabel(f\"Memory used (MiB)\")\n",
    "ax.set_xticks(range(0, int(max_time) + 1, 60))\n",
    "ax.set_yticks(range(0, int(max_memory), 10))\n",
    "\n",
    "None"
   ],
   "outputs": [],
   "metadata": {}
  },
  {
   "cell_type": "markdown",
   "source": [
    "### IO (Read, Write) Point-in-time / line graph"
   ],
   "metadata": {}
  },
  {
   "cell_type": "code",
   "execution_count": null,
   "source": [
    "# Graph inputs\n",
    "\n",
    "# Size of the window to aggregate collection samples in.\n",
    "WINDOW_SIZE_MS = 1_000\n",
    "\n",
    "# Aggregation function used for windows.\n",
    "WINDOW_AGGREGATION_FUNCTION = sum"
   ],
   "outputs": [],
   "metadata": {}
  },
  {
   "cell_type": "code",
   "execution_count": null,
   "source": [
    "def generate_io_series(dataframe: pd.DataFrame, metric: Literal[\"read\", \"write\"]) -> pd.Series:\n",
    "    \"\"\"\n",
    "    Generates the IO time-series by aggregating the data.\n",
    "    This mutates the dataframe by adding additional columns.\n",
    "    \"\"\"\n",
    "    window_size_ns = int(WINDOW_SIZE_MS * 1e6)\n",
    "    dataframe[f\"io_{metric}_window\"] = dataframe.apply(lambda r: r[\"time\"] // window_size_ns, axis=1)\n",
    "    io_series = dataframe.groupby([f\"io_{metric}_window\"])[f\"{metric}_diff\"].agg(WINDOW_AGGREGATION_FUNCTION)\n",
    "    io_series = io_series.reindex(range(0, io_series.index.max() + 1))\n",
    "    # Convert to KiB\n",
    "    io_series = io_series.apply(lambda v: v / 1024)\n",
    "\n",
    "    return io_series"
   ],
   "outputs": [],
   "metadata": {}
  },
  {
   "cell_type": "code",
   "execution_count": null,
   "source": [
    "io_series = {\n",
    "    \"read\": generate_io_series(dataframe, \"read\"),\n",
    "    \"write\": generate_io_series(dataframe, \"write\"),\n",
    "}\n",
    "\n",
    "# Use the same max time for both plots\n",
    "max_time = max(series.index.max() for series in io_series.values())\n",
    "\n",
    "fig = plt.figure(figsize=(10, 10))\n",
    "for (idx, (metric, series)) in enumerate(io_series.items()):\n",
    "    ax = fig.add_subplot(2, 1, idx + 1)\n",
    "    max_io = series.max()\n",
    "    series.plot(ax=ax, kind=\"line\", grid=True)\n",
    "    ax.set_xlim((0, max_time))\n",
    "    ax.set_ylim((0, max(max_io, 1)))\n",
    "    ax.grid(b=True, alpha=0.75)\n",
    "    ax.set_title(f\"I/O {metric}s ({WINDOW_SIZE_MS / 1e3:.1f}s window)\")\n",
    "    ax.set_xlabel(\"Time (seconds)\")\n",
    "    ax.set_ylabel(f\"Data transferred (KiB)\")\n",
    "    ax.set_xticks(range(0, int(max_time) + 1, 60))\n",
    "fig.tight_layout(h_pad=1.2)\n",
    "\n",
    "None"
   ],
   "outputs": [],
   "metadata": {}
  },
  {
   "cell_type": "markdown",
   "source": [
    "## Histograms\n",
    "\n",
    "- CPU (per-cpu rolled up into single time-series) - `cpu.usage.percpu`\n",
    "- Memory - `memory.usage.current`\n",
    "- I/O (read, write) - `blkio.service.bytes.read`, `blkio.service.bytes.write`"
   ],
   "metadata": {}
  },
  {
   "cell_type": "code",
   "execution_count": null,
   "source": [
    "def generate_histogram_series(src_series: pd.Series, bin_width: float) -> pd.Series:\n",
    "    \"\"\"\n",
    "    Generates a series containing the same number of points as src_series,\n",
    "    where each value is the lower bin bound that the corresponding point belongs to.\n",
    "    \"\"\"\n",
    "    bin_indices = (src_series\n",
    "        .apply(lambda r: r // bin_width)\n",
    "        .dropna()\n",
    "        .apply(lambda r: int(r)))\n",
    "    bin_lower_bounds = bin_indices.apply(lambda r: r * bin_width)\n",
    "    return bin_lower_bounds"
   ],
   "outputs": [],
   "metadata": {}
  },
  {
   "cell_type": "markdown",
   "source": [
    "### CPU Histogram"
   ],
   "metadata": {}
  },
  {
   "cell_type": "code",
   "execution_count": null,
   "source": [
    "# Graph inputs\n",
    "\n",
    "# Size of the bins (in CPU-%) used to group data points.\n",
    "CPU_UTIL_PERCENT_BIN_SIZE = 2\n",
    "\n",
    "# The aggregation function used to aggregate\n",
    "# each \"CPU time consumed per-core\" time-series for a single collection sample\n",
    "# into a single \"CPU time consumed\" time-series.\n",
    "# If using average, make sure to filter unused CPU cores;\n",
    "# otherwise the average might be artificially depressed\n",
    "# by a handful of permenant zeroes\n",
    "PER_CPU_AGGREGATION_FUNCTION = max"
   ],
   "outputs": [],
   "metadata": {}
  },
  {
   "cell_type": "code",
   "execution_count": null,
   "source": [
    "def generate_cpu_histogram_series(dataframe: pd.DataFrame) -> pd.Series:\n",
    "    \"\"\"\n",
    "    Generates the CPU histogram data by aggregating the data.\n",
    "    This mutates the dataframe by adding additional columns.\n",
    "    \"\"\"\n",
    "    dataframe[\"cpu_histogram_diff\"] = dataframe[\"percpu_diff\"].apply(\n",
    "        lambda d: PER_CPU_AGGREGATION_FUNCTION(d) if type(d) is list else 0)\n",
    "    cpu_series = dataframe.apply(\n",
    "        lambda r: (r[\"cpu_histogram_diff\"] / r[\"time_diff\"] if r[\"time_diff\"] != 0 else 0), axis=1)\n",
    "    cpu_series = cpu_series.reindex(range(0, cpu_series.index.max() + 1))\n",
    "    # Convert to core-percentage\n",
    "    cpu_series = cpu_series.apply(lambda v: v * 100)\n",
    "    return cpu_series"
   ],
   "outputs": [],
   "metadata": {}
  },
  {
   "cell_type": "code",
   "execution_count": null,
   "source": [
    "cpu_series = generate_cpu_histogram_series(dataframe)\n",
    "\n",
    "fig, ax = plt.subplots()\n",
    "fig.set_size_inches(10, 5)\n",
    "cpu_series.plot(ax=ax, kind='hist', edgecolor='white', linewidth=1.2,\n",
    "    bins=math.ceil((cpu_series.max() - cpu_series.min()) / CPU_UTIL_PERCENT_BIN_SIZE))\n",
    "ax.grid(b=True, alpha=0.75, axis='y')\n",
    "ax.set_yscale(\"log\")\n",
    "ax.set_title(f\"CPU Utilization Distribution (for utilization each {INTERVAL})\")\n",
    "ax.set_xlabel(\"CPU Utilization (%)\")\n",
    "ax.set_ylabel(\"Frequency\")\n",
    "\n",
    "None"
   ],
   "outputs": [],
   "metadata": {}
  },
  {
   "cell_type": "markdown",
   "source": [
    "### Memory Histogram"
   ],
   "metadata": {}
  },
  {
   "cell_type": "code",
   "execution_count": null,
   "source": [
    "# Graph inputs\n",
    "\n",
    "# Size of the bins (in MiB) used to group data points.\n",
    "MEMORY_MIB_BIN_SIZE = 0.25"
   ],
   "outputs": [],
   "metadata": {}
  },
  {
   "cell_type": "code",
   "execution_count": null,
   "source": [
    "def generate_memory_histogram_series(dataframe: pd.DataFrame) -> pd.Series:\n",
    "    \"\"\"\n",
    "    Generates the Memory histogram data by aggregating the data.\n",
    "    This mutates the dataframe by adding additional columns.\n",
    "    \"\"\"\n",
    "    # Convert to MiB\n",
    "    memory_series = dataframe[\"memory_usage_current\"].apply(lambda v: v / (1024 * 1024))\n",
    "    return memory_series"
   ],
   "outputs": [],
   "metadata": {}
  },
  {
   "cell_type": "code",
   "execution_count": null,
   "source": [
    "memory_series = generate_memory_histogram_series(dataframe)\n",
    "\n",
    "fig, ax = plt.subplots()\n",
    "fig.set_size_inches(10, 5)\n",
    "memory_series.plot(ax=ax, kind='hist', edgecolor='white', linewidth=1.2,\n",
    "    bins=math.ceil((memory_series.max() - memory_series.min()) / MEMORY_MIB_BIN_SIZE))\n",
    "ax.grid(b=True, alpha=0.75, axis='y')\n",
    "ax.set_yscale(\"log\")\n",
    "ax.set_title(f\"Memory Usage Distribution (for measurements collected each {INTERVAL})\")\n",
    "ax.set_xlabel(\"Memory Usage (MiB)\")\n",
    "ax.set_ylabel(\"Frequency\")\n",
    "\n",
    "None"
   ],
   "outputs": [],
   "metadata": {}
  },
  {
   "cell_type": "markdown",
   "source": [
    "### IO (Read, Write) Histograms"
   ],
   "metadata": {}
  },
  {
   "cell_type": "code",
   "execution_count": null,
   "source": [
    "# Graph inputs\n",
    "\n",
    "# Number of bins to use when plotting the IO data\n",
    "IO_NUM_BINS = 20"
   ],
   "outputs": [],
   "metadata": {}
  },
  {
   "cell_type": "code",
   "execution_count": null,
   "source": [
    "def generate_io_histogram_series(dataframe: pd.DataFrame, metric: Literal[\"read\", \"write\"]) -> pd.Series:\n",
    "    \"\"\"\n",
    "    Generates the IO time-series by aggregating the data.\n",
    "    This mutates the dataframe by adding additional columns.\n",
    "    \"\"\"\n",
    "    # Convert to KiB\n",
    "    io_series = dataframe[f\"io_{metric}_window\"].apply(lambda v: v / 1024)\n",
    "    return io_series"
   ],
   "outputs": [],
   "metadata": {}
  },
  {
   "cell_type": "code",
   "execution_count": null,
   "source": [
    "io_histogram_series = {\n",
    "    \"read\": generate_io_histogram_series(dataframe, \"read\"),\n",
    "    \"write\": generate_io_histogram_series(dataframe, \"write\"),\n",
    "}\n",
    "\n",
    "fig = plt.figure(figsize=(10, 10))\n",
    "for (idx, (metric, series)) in enumerate(io_series.items()):\n",
    "    ax = fig.add_subplot(2, 1, idx + 1)\n",
    "    series.plot(ax=ax, kind='hist', edgecolor='white', linewidth=1.2, bins=IO_NUM_BINS)\n",
    "    ax.grid(b=True, alpha=0.75, axis='y')\n",
    "    ax.set_yscale(\"log\")\n",
    "    ax.set_title(f\"I/O {metric.capitalize()} Distribution (for data transferred in {INTERVAL})\")\n",
    "    ax.set_xlabel(\"Data transferred (KiB)\")\n",
    "    ax.set_ylabel(\"Frequency\")\n",
    "fig.tight_layout(h_pad=1.2)\n",
    "\n",
    "None"
   ],
   "outputs": [],
   "metadata": {}
  }
 ],
 "metadata": {
  "interpreter": {
   "hash": "916dbcbb3f70747c44a77c7bcd40155683ae19c65e1c03b4aa3499c5328201f1"
  },
  "kernelspec": {
   "name": "python3",
   "display_name": "Python 3.9.5 64-bit"
  },
  "language_info": {
   "codemirror_mode": {
    "name": "ipython",
    "version": 3
   },
   "file_extension": ".py",
   "mimetype": "text/x-python",
   "name": "python",
   "nbconvert_exporter": "python",
   "pygments_lexer": "ipython3",
   "version": "3.9.5"
  }
 },
 "nbformat": 4,
 "nbformat_minor": 5
}